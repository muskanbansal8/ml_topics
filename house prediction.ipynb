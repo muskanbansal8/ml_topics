{
 "cells": [
  {
   "cell_type": "code",
   "execution_count": 7,
   "metadata": {},
   "outputs": [
    {
     "name": "stdout",
     "output_type": "stream",
     "text": [
      "[[208500. 181500. 223500. ... 266500. 142125. 147500.]]\n",
      "[208500 181500 223500 ... 266500 142125 147500]\n",
      "[1710 1262 1786 ... 2340 1078 1256]\n"
     ]
    },
    {
     "name": "stderr",
     "output_type": "stream",
     "text": [
      "No handles with labels found to put in legend.\n"
     ]
    },
    {
     "data": {
      "image/png": "[encoded data removed]",
      "text/plain": [
       "<Figure size 432x288 with 1 Axes>"
      ]
     },
     "metadata": {
      "needs_background": "light"
     },
     "output_type": "display_data"
    }
   ],
   "source": [
    "import pandas as pd\n",
    "import matplotlib.pyplot as plt\n",
    "%matplotlib inline\n",
    "train_data=pd.read_csv('train.csv')\n",
    "test_data=pd.read_csv('test.csv')\n",
    "# extracting area from data\n",
    "x=train_data.GrLivArea\t\n",
    "# extracting salprice from data\n",
    "y=train_data.SalePrice\n",
    "\n",
    "# removing outliers \n",
    "train_data=train_data.drop(train_data[(x>4000) & (y<300000)].index)\n",
    "\n",
    "# calling linearregreesion model\n",
    "from sklearn.linear_model import LinearRegression\n",
    "# model creation\n",
    "\n",
    "X=train_data.GrLivArea.values\n",
    "Y=train_data.SalePrice.values\n",
    "regr=LinearRegression()\n",
    "#trained=regr.fit(X,Y)\n",
    "#z=trained.predict(X)\n",
    "print(z)\n",
    "print(Y)\n",
    "print(X)\n",
    "plt.ylabel('saleprice',fontsize=13)\n",
    "plt.xlabel('area(sqft)',fontsize=13)\n",
    "#plt.scatter(X,Y,label='actual')\n",
    "plt.plot(X,Y,color='red')\n",
    "plt.legend()\n",
    "plt.show()\n"
   ]
  },
  {
   "cell_type": "code",
   "execution_count": null,
   "metadata": {},
   "outputs": [],
   "source": [
    "# resizing is very easy using the cv2.resize function, its arguments are \n",
    "#cv2.resize(image,dsize(output image size), x_scale, y_scale, interpolation)\n",
    "import cv2\n",
    "import numpy as np\n",
    "image=cv2.imread('dog.jpg')\n",
    "cv2.imshow('Original_image',image)\n",
    "cv2.waitKey(0)\n",
    "#let's make the image 3/4 the the original image size i.e. scales down to 75%\n",
    "image_scaled=cv2.resize(image[100:200,200:350],None,fx=8.5,fy=8.5,interpolation=cv2.INTER_CUBIC)\n",
    "#since linear interpolation is default method for open cv we don’t need to implement it as a function.\n",
    "cv2.imshow('scaling_linear interpolation', image_scaled)\n",
    "cv2.waitKey(0)"
   ]
  },
  {
   "cell_type": "code",
   "execution_count": 22,
   "metadata": {},
   "outputs": [
    {
     "ename": "ModuleNotFoundError",
     "evalue": "No module named 'imutils'",
     "output_type": "error",
     "traceback": [
      "\u001b[1;31m---------------------------------------------------------------------------\u001b[0m",
      "\u001b[1;31mModuleNotFoundError\u001b[0m                       Traceback (most recent call last)",
      "\u001b[1;32m<ipython-input-22-6318b9b37120>\u001b[0m in \u001b[0;36m<module>\u001b[1;34m\u001b[0m\n\u001b[0;32m      2\u001b[0m \u001b[1;32mimport\u001b[0m \u001b[0mcv2\u001b[0m\u001b[1;33m\u001b[0m\u001b[1;33m\u001b[0m\u001b[0m\n\u001b[0;32m      3\u001b[0m \u001b[1;32mimport\u001b[0m \u001b[0margparse\u001b[0m\u001b[1;33m\u001b[0m\u001b[1;33m\u001b[0m\u001b[0m\n\u001b[1;32m----> 4\u001b[1;33m \u001b[1;32mimport\u001b[0m \u001b[0mimutils\u001b[0m\u001b[1;33m\u001b[0m\u001b[1;33m\u001b[0m\u001b[0m\n\u001b[0m",
      "\u001b[1;31mModuleNotFoundError\u001b[0m: No module named 'imutils'"
     ]
    }
   ],
   "source": [
    "from skimage.measure import compare_ssim\n",
    "import cv2 \n",
    "import argparse\n",
    "import imutils\n"
   ]
  },
  {
   "cell_type": "code",
   "execution_count": 7,
   "metadata": {},
   "outputs": [
    {
     "name": "stdout",
     "output_type": "stream",
     "text": [
      "image size is same\n"
     ]
    },
    {
     "data": {
      "text/plain": [
       "-1"
      ]
     },
     "execution_count": 7,
     "metadata": {},
     "output_type": "execute_result"
    }
   ],
   "source": [
    "import cv2\n",
    "import numpy as np\n",
    "img1=cv2.imread('c.jpg')\n",
    "img2=cv2.imread('d.jpg')\n",
    "img11=cv2.cvtColor(img1,cv2.COLOR_BGR2GRAY)\n",
    "img22=cv2.cvtColor(img2,cv2.COLOR_BGR2GRAY)\n",
    "if img1.shape==img2.shape :\n",
    "    print('image size is same')\n",
    "    diffrence=cv2.subtract(img11,img22)\n",
    "    #b,g,r=cv2.split(diffrence)\n",
    "    \n",
    "    #if cv2.countNonZero(b)==0 & countNonZero(g)==0 & countNonZero(r)==0 :\n",
    "cv2.imshow('diff',diffrence)        #print('equal')\n",
    "cv2.waitKey(0)\n",
    "    "
   ]
  },
  {
   "cell_type": "code",
   "execution_count": 6,
   "metadata": {},
   "outputs": [
    {
     "data": {
      "text/plain": [
       "(1, 1458)"
      ]
     },
     "execution_count": 6,
     "metadata": {},
     "output_type": "execute_result"
    }
   ],
   "source": [
    "X.shape"
   ]
  },
  {
   "cell_type": "code",
   "execution_count": null,
   "metadata": {},
   "outputs": [],
   "source": [
    "# import tokenize\n",
    "from nltk.tokenize import sent_tokenize\n",
    "from nltk.tokenize import word_tokenize "
   ]
  },
  {
   "cell_type": "code",
   "execution_count": null,
   "metadata": {},
   "outputs": [],
   "source": [
    "# resizing is very easy using the cv2.resize function, its arguments are \n",
    "#cv2.resize(image,dsize(output image size), x_scale, y_scale, interpolation)\n",
    "import cv2\n",
    "import numpy as np\n",
    "image=cv2.imread('dog.jpg')\n",
    "cv2.imshow('Original_image',image)\n",
    "cv2.waitKey(0)\n",
    "#let's make the image 3/4 the the original image size i.e. scales down to 75%\n",
    "image_scaled=cv2.resize(image[100:200,200:350],None,fx=8.5,fy=8.5,interpolation=cv2.INTER_CUBIC)\n",
    "#since linear interpolation is default method for open cv we don’t need to implement it as a function.\n",
    "cv2.imshow('scaling_linear interpolation', image_scaled)\n",
    "cv2.waitKey(0)"
   ]
  },
  {
   "cell_type": "code",
   "execution_count": null,
   "metadata": {},
   "outputs": [],
   "source": []
  }
 ],
 "metadata": {
  "kernelspec": {
   "display_name": "Python 3",
   "language": "python",
   "name": "python3"
  },
  "language_info": {
   "codemirror_mode": {
    "name": "ipython",
    "version": 3
   },
   "file_extension": ".py",
   "mimetype": "text/x-python",
   "name": "python",
   "nbconvert_exporter": "python",
   "pygments_lexer": "ipython3",
   "version": "3.7.1"
  }
 },
 "nbformat": 4,
 "nbformat_minor": 2
}
